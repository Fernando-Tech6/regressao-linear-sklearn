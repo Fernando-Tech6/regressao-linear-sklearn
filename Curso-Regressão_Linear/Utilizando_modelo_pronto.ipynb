{
 "metadata": {
  "language_info": {
   "codemirror_mode": {
    "name": "ipython",
    "version": 3
   },
   "file_extension": ".py",
   "mimetype": "text/x-python",
   "name": "python",
   "nbconvert_exporter": "python",
   "pygments_lexer": "ipython3",
   "version": "3.8.8"
  },
  "orig_nbformat": 4,
  "kernelspec": {
   "name": "python3",
   "display_name": "Python 3.8.8 64-bit ('base': conda)"
  },
  "interpreter": {
   "hash": "2a127176657e4f6bee09e0c70cef8b964ba9c93f57cbb82a7ce66a45234361ee"
  }
 },
 "nbformat": 4,
 "nbformat_minor": 2,
 "cells": [
  {
   "source": [
    "# Será utilizado um modelo pronto, que já foi testado e treinado(o modelo está na pasta data)"
   ],
   "cell_type": "markdown",
   "metadata": {}
  },
  {
   "cell_type": "code",
   "execution_count": 2,
   "metadata": {},
   "outputs": [
    {
     "output_type": "stream",
     "name": "stdout",
     "text": [
      "26094.90 litros\n"
     ]
    }
   ],
   "source": [
    "import pickle\n",
    "\n",
    "modelo = open('data/modelo_consumo_cerveja','rb')\n",
    "novo_modelo = pickle.load(modelo)\n",
    "modelo.close()\n",
    "\n",
    "temp_max = 30.5\n",
    "chuva = 12.2\n",
    "fds = 0\n",
    "entrada = [[temp_max, chuva, fds]]\n",
    "print('{0:.2f} litros'.format(novo_modelo.predict(entrada)[0]))"
   ]
  },
  {
   "source": [
    "## Modelo do exercício"
   ],
   "cell_type": "markdown",
   "metadata": {}
  },
  {
   "cell_type": "code",
   "execution_count": 6,
   "metadata": {},
   "outputs": [
    {
     "output_type": "stream",
     "name": "stdout",
     "text": [
      "R$ 50168.77\n"
     ]
    }
   ],
   "source": [
    "import pickle\n",
    "\n",
    "modelo = open('data/exercicio_regressao','rb')\n",
    "exercicio_model = pickle.load(modelo)\n",
    "modelo.close()\n",
    "\n",
    "marmore = 0\n",
    "andares = 1\n",
    "area = 45\n",
    "banheiros = 4\n",
    "lareira = 4\n",
    "garagem = 4\n",
    "entrada = [[marmore, andares,area,banheiros,lareira,garagem]]\n",
    "print(f'R$ {exercicio_model.predict(entrada)[0].round(2)}')"
   ]
  }
 ]
}